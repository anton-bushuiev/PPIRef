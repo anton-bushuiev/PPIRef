{
 "cells": [
  {
   "attachments": {},
   "cell_type": "markdown",
   "metadata": {},
   "source": [
    "This notebook contains experiments described in the following workshop paper:\n",
    "```\n",
    "@inproceedings{\n",
    "bushuiev2024revealing,\n",
    "title={Revealing data leakage in protein interaction benchmarks},\n",
    "author={Anton Bushuiev and Roman Bushuiev and Jiri Sedlar and Tomas Pluskal and Jiri Damborsky and Stanislav Mazurenko and Josef Sivic},\n",
    "booktitle={ICLR 2024 Workshop on Generative and Experimental Perspectives for Biomolecular Design},\n",
    "year={2024},\n",
    "url={https://arxiv.org/abs/2404.10457}\n",
    "}\n",
    "```"
   ]
  },
  {
   "cell_type": "code",
   "execution_count": 4,
   "metadata": {},
   "outputs": [],
   "source": [
    "%load_ext autoreload\n",
    "%autoreload 2"
   ]
  },
  {
   "cell_type": "code",
   "execution_count": 5,
   "metadata": {},
   "outputs": [
    {
     "data": {
      "text/html": [
       "<pre style=\"white-space:pre;overflow-x:auto;line-height:normal;font-family:Menlo,'DejaVu Sans Mono',consolas,'Courier New',monospace\"><span style=\"color: #7fbfbf; text-decoration-color: #7fbfbf\">[04/02/24 20:42:34] </span><span style=\"color: #800000; text-decoration-color: #800000\">WARNING </span> To use the Graphein submodule                                         <a href=\"file:///home/antonb/miniconda3/envs/ppiref/lib/python3.10/site-packages/graphein/protein/features/sequence/embeddings.py\" target=\"_blank\"><span style=\"color: #7f7f7f; text-decoration-color: #7f7f7f\">embeddings.py</span></a><span style=\"color: #7f7f7f; text-decoration-color: #7f7f7f\">:</span><a href=\"file:///home/antonb/miniconda3/envs/ppiref/lib/python3.10/site-packages/graphein/protein/features/sequence/embeddings.py#34\" target=\"_blank\"><span style=\"color: #7f7f7f; text-decoration-color: #7f7f7f\">34</span></a>\n",
       "<span style=\"color: #7fbfbf; text-decoration-color: #7fbfbf\">                    </span>         graphein.protein.features.sequence.embeddings, you need to install:   <span style=\"color: #7f7f7f; text-decoration-color: #7f7f7f\">                </span>\n",
       "<span style=\"color: #7fbfbf; text-decoration-color: #7fbfbf\">                    </span>         torch                                                                 <span style=\"color: #7f7f7f; text-decoration-color: #7f7f7f\">                </span>\n",
       "<span style=\"color: #7fbfbf; text-decoration-color: #7fbfbf\">                    </span>         To do so, use the following command: conda install -c pytorch torch   <span style=\"color: #7f7f7f; text-decoration-color: #7f7f7f\">                </span>\n",
       "</pre>\n"
      ],
      "text/plain": [
       "\u001b[2;36m[04/02/24 20:42:34]\u001b[0m\u001b[2;36m \u001b[0m\u001b[31mWARNING \u001b[0m To use the Graphein submodule                                         \u001b]8;id=209715;file:///home/antonb/miniconda3/envs/ppiref/lib/python3.10/site-packages/graphein/protein/features/sequence/embeddings.py\u001b\\\u001b[2membeddings.py\u001b[0m\u001b]8;;\u001b\\\u001b[2m:\u001b[0m\u001b]8;id=753565;file:///home/antonb/miniconda3/envs/ppiref/lib/python3.10/site-packages/graphein/protein/features/sequence/embeddings.py#34\u001b\\\u001b[2m34\u001b[0m\u001b]8;;\u001b\\\n",
       "\u001b[2;36m                    \u001b[0m         graphein.protein.features.sequence.embeddings, you need to install:   \u001b[2m                \u001b[0m\n",
       "\u001b[2;36m                    \u001b[0m         torch                                                                 \u001b[2m                \u001b[0m\n",
       "\u001b[2;36m                    \u001b[0m         To do so, use the following command: conda install -c pytorch torch   \u001b[2m                \u001b[0m\n"
      ]
     },
     "metadata": {},
     "output_type": "display_data"
    },
    {
     "data": {
      "text/html": [
       "<pre style=\"white-space:pre;overflow-x:auto;line-height:normal;font-family:Menlo,'DejaVu Sans Mono',consolas,'Courier New',monospace\"><span style=\"color: #7fbfbf; text-decoration-color: #7fbfbf\">                    </span><span style=\"color: #800000; text-decoration-color: #800000\">WARNING </span> To use the Graphein submodule                                         <a href=\"file:///home/antonb/miniconda3/envs/ppiref/lib/python3.10/site-packages/graphein/protein/features/sequence/embeddings.py\" target=\"_blank\"><span style=\"color: #7f7f7f; text-decoration-color: #7f7f7f\">embeddings.py</span></a><span style=\"color: #7f7f7f; text-decoration-color: #7f7f7f\">:</span><a href=\"file:///home/antonb/miniconda3/envs/ppiref/lib/python3.10/site-packages/graphein/protein/features/sequence/embeddings.py#45\" target=\"_blank\"><span style=\"color: #7f7f7f; text-decoration-color: #7f7f7f\">45</span></a>\n",
       "<span style=\"color: #7fbfbf; text-decoration-color: #7fbfbf\">                    </span>         graphein.protein.features.sequence.embeddings, you need to install:   <span style=\"color: #7f7f7f; text-decoration-color: #7f7f7f\">                </span>\n",
       "<span style=\"color: #7fbfbf; text-decoration-color: #7fbfbf\">                    </span>         biovec                                                                <span style=\"color: #7f7f7f; text-decoration-color: #7f7f7f\">                </span>\n",
       "<span style=\"color: #7fbfbf; text-decoration-color: #7fbfbf\">                    </span>         biovec cannot be installed via conda                                  <span style=\"color: #7f7f7f; text-decoration-color: #7f7f7f\">                </span>\n",
       "<span style=\"color: #7fbfbf; text-decoration-color: #7fbfbf\">                    </span>         Alternatively, you can install graphein with the extras:              <span style=\"color: #7f7f7f; text-decoration-color: #7f7f7f\">                </span>\n",
       "<span style=\"color: #7fbfbf; text-decoration-color: #7fbfbf\">                    </span>                                                                               <span style=\"color: #7f7f7f; text-decoration-color: #7f7f7f\">                </span>\n",
       "<span style=\"color: #7fbfbf; text-decoration-color: #7fbfbf\">                    </span>         pip install graphein<span style=\"font-weight: bold\">[</span>extras<span style=\"font-weight: bold\">]</span>                                          <span style=\"color: #7f7f7f; text-decoration-color: #7f7f7f\">                </span>\n",
       "</pre>\n"
      ],
      "text/plain": [
       "\u001b[2;36m                   \u001b[0m\u001b[2;36m \u001b[0m\u001b[31mWARNING \u001b[0m To use the Graphein submodule                                         \u001b]8;id=754388;file:///home/antonb/miniconda3/envs/ppiref/lib/python3.10/site-packages/graphein/protein/features/sequence/embeddings.py\u001b\\\u001b[2membeddings.py\u001b[0m\u001b]8;;\u001b\\\u001b[2m:\u001b[0m\u001b]8;id=403010;file:///home/antonb/miniconda3/envs/ppiref/lib/python3.10/site-packages/graphein/protein/features/sequence/embeddings.py#45\u001b\\\u001b[2m45\u001b[0m\u001b]8;;\u001b\\\n",
       "\u001b[2;36m                    \u001b[0m         graphein.protein.features.sequence.embeddings, you need to install:   \u001b[2m                \u001b[0m\n",
       "\u001b[2;36m                    \u001b[0m         biovec                                                                \u001b[2m                \u001b[0m\n",
       "\u001b[2;36m                    \u001b[0m         biovec cannot be installed via conda                                  \u001b[2m                \u001b[0m\n",
       "\u001b[2;36m                    \u001b[0m         Alternatively, you can install graphein with the extras:              \u001b[2m                \u001b[0m\n",
       "\u001b[2;36m                    \u001b[0m                                                                               \u001b[2m                \u001b[0m\n",
       "\u001b[2;36m                    \u001b[0m         pip install graphein\u001b[1m[\u001b[0mextras\u001b[1m]\u001b[0m                                          \u001b[2m                \u001b[0m\n"
      ]
     },
     "metadata": {},
     "output_type": "display_data"
    },
    {
     "data": {
      "text/html": [
       "<pre style=\"white-space:pre;overflow-x:auto;line-height:normal;font-family:Menlo,'DejaVu Sans Mono',consolas,'Courier New',monospace\"><span style=\"color: #7fbfbf; text-decoration-color: #7fbfbf\">                    </span><span style=\"color: #800000; text-decoration-color: #800000\">WARNING </span> To use the Graphein submodule graphein.protein.visualisation, you  <a href=\"file:///home/antonb/miniconda3/envs/ppiref/lib/python3.10/site-packages/graphein/protein/visualisation.py\" target=\"_blank\"><span style=\"color: #7f7f7f; text-decoration-color: #7f7f7f\">visualisation.py</span></a><span style=\"color: #7f7f7f; text-decoration-color: #7f7f7f\">:</span><a href=\"file:///home/antonb/miniconda3/envs/ppiref/lib/python3.10/site-packages/graphein/protein/visualisation.py#36\" target=\"_blank\"><span style=\"color: #7f7f7f; text-decoration-color: #7f7f7f\">36</span></a>\n",
       "<span style=\"color: #7fbfbf; text-decoration-color: #7fbfbf\">                    </span>         need to install: pytorch3d                                         <span style=\"color: #7f7f7f; text-decoration-color: #7f7f7f\">                   </span>\n",
       "<span style=\"color: #7fbfbf; text-decoration-color: #7fbfbf\">                    </span>         To do so, use the following command: conda install -c pytorch3d    <span style=\"color: #7f7f7f; text-decoration-color: #7f7f7f\">                   </span>\n",
       "<span style=\"color: #7fbfbf; text-decoration-color: #7fbfbf\">                    </span>         pytorch3d                                                          <span style=\"color: #7f7f7f; text-decoration-color: #7f7f7f\">                   </span>\n",
       "</pre>\n"
      ],
      "text/plain": [
       "\u001b[2;36m                   \u001b[0m\u001b[2;36m \u001b[0m\u001b[31mWARNING \u001b[0m To use the Graphein submodule graphein.protein.visualisation, you  \u001b]8;id=23104;file:///home/antonb/miniconda3/envs/ppiref/lib/python3.10/site-packages/graphein/protein/visualisation.py\u001b\\\u001b[2mvisualisation.py\u001b[0m\u001b]8;;\u001b\\\u001b[2m:\u001b[0m\u001b]8;id=2246;file:///home/antonb/miniconda3/envs/ppiref/lib/python3.10/site-packages/graphein/protein/visualisation.py#36\u001b\\\u001b[2m36\u001b[0m\u001b]8;;\u001b\\\n",
       "\u001b[2;36m                    \u001b[0m         need to install: pytorch3d                                         \u001b[2m                   \u001b[0m\n",
       "\u001b[2;36m                    \u001b[0m         To do so, use the following command: conda install -c pytorch3d    \u001b[2m                   \u001b[0m\n",
       "\u001b[2;36m                    \u001b[0m         pytorch3d                                                          \u001b[2m                   \u001b[0m\n"
      ]
     },
     "metadata": {},
     "output_type": "display_data"
    },
    {
     "data": {
      "text/html": [
       "<pre style=\"white-space:pre;overflow-x:auto;line-height:normal;font-family:Menlo,'DejaVu Sans Mono',consolas,'Courier New',monospace\"><span style=\"color: #7fbfbf; text-decoration-color: #7fbfbf\">                    </span><span style=\"color: #800000; text-decoration-color: #800000\">WARNING </span> To use the Graphein submodule graphein.protein.meshes, you need to        <a href=\"file:///home/antonb/miniconda3/envs/ppiref/lib/python3.10/site-packages/graphein/protein/meshes.py\" target=\"_blank\"><span style=\"color: #7f7f7f; text-decoration-color: #7f7f7f\">meshes.py</span></a><span style=\"color: #7f7f7f; text-decoration-color: #7f7f7f\">:</span><a href=\"file:///home/antonb/miniconda3/envs/ppiref/lib/python3.10/site-packages/graphein/protein/meshes.py#30\" target=\"_blank\"><span style=\"color: #7f7f7f; text-decoration-color: #7f7f7f\">30</span></a>\n",
       "<span style=\"color: #7fbfbf; text-decoration-color: #7fbfbf\">                    </span>         install: pytorch3d                                                        <span style=\"color: #7f7f7f; text-decoration-color: #7f7f7f\">            </span>\n",
       "<span style=\"color: #7fbfbf; text-decoration-color: #7fbfbf\">                    </span>         To do so, use the following command: conda install -c pytorch3d pytorch3d <span style=\"color: #7f7f7f; text-decoration-color: #7f7f7f\">            </span>\n",
       "</pre>\n"
      ],
      "text/plain": [
       "\u001b[2;36m                   \u001b[0m\u001b[2;36m \u001b[0m\u001b[31mWARNING \u001b[0m To use the Graphein submodule graphein.protein.meshes, you need to        \u001b]8;id=594235;file:///home/antonb/miniconda3/envs/ppiref/lib/python3.10/site-packages/graphein/protein/meshes.py\u001b\\\u001b[2mmeshes.py\u001b[0m\u001b]8;;\u001b\\\u001b[2m:\u001b[0m\u001b]8;id=100680;file:///home/antonb/miniconda3/envs/ppiref/lib/python3.10/site-packages/graphein/protein/meshes.py#30\u001b\\\u001b[2m30\u001b[0m\u001b]8;;\u001b\\\n",
       "\u001b[2;36m                    \u001b[0m         install: pytorch3d                                                        \u001b[2m            \u001b[0m\n",
       "\u001b[2;36m                    \u001b[0m         To do so, use the following command: conda install -c pytorch3d pytorch3d \u001b[2m            \u001b[0m\n"
      ]
     },
     "metadata": {},
     "output_type": "display_data"
    }
   ],
   "source": [
    "import random\n",
    "import pickle\n",
    "from pathlib import Path\n",
    "from collections import defaultdict\n",
    "\n",
    "import numpy as np\n",
    "import pandas as pd\n",
    "import igraph as ig\n",
    "import matplotlib.pyplot as plt\n",
    "import seaborn as sns\n",
    "import graphein\n",
    "from pandarallel import pandarallel\n",
    "from tqdm import tqdm\n",
    "from sklearn.model_selection import train_test_split, TimeSeriesSplit\n",
    "from loguru import logger as log\n",
    "\n",
    "from mutils.pdb import pdb2fasta\n",
    "from mutils.proteins import parse_fasta\n",
    "from ppiref.split import read_fold, write_split\n",
    "from ppiref.utils.ppipath import *\n",
    "from ppiref.utils.ppi import PPI\n",
    "from ppiref.comparison import IDist, IAlign\n",
    "from ppiref.definitions import PPIREF_DATA_DIR, PPIREF_SPLITS_DIR, PPIREF_ROOT_DIR\n",
    "from mutils.io import init_plotting\n",
    "\n",
    "tqdm.pandas()\n",
    "\n",
    "log.disable('graphein')"
   ]
  },
  {
   "cell_type": "code",
   "execution_count": 6,
   "metadata": {},
   "outputs": [],
   "source": [
    "# In this notebook, we use 5 random seeds (0, 1, 2, 3, 4) to generate 5 different splits for each split type.\n",
    "seed = 0\n",
    "\n",
    "def set_seed(s):\n",
    "    random.seed(s)\n",
    "    np.random.seed(s)\n",
    "\n",
    "set_seed(seed)"
   ]
  },
  {
   "cell_type": "code",
   "execution_count": 7,
   "metadata": {},
   "outputs": [],
   "source": [
    "dir_ppi = Path(PPIREF_DATA_DIR / 'ppiref/ppi_6A')\n",
    "dir_pdb = Path(PPIREF_ROOT_DIR / 'data/pdb')"
   ]
  },
  {
   "cell_type": "code",
   "execution_count": 8,
   "metadata": {},
   "outputs": [],
   "source": [
    "tmp_dir = PPIREF_DATA_DIR / 'splits_tmp'\n",
    "tmp_dir.mkdir(parents=True, exist_ok=True)\n",
    "\n",
    "dir_splits = PPIREF_SPLITS_DIR / 'synthetic'\n",
    "dir_splits.mkdir(parents=True, exist_ok=True)"
   ]
  },
  {
   "attachments": {},
   "cell_type": "markdown",
   "metadata": {},
   "source": [
    "# Sample PPIs from PPIRef"
   ]
  },
  {
   "cell_type": "code",
   "execution_count": 6,
   "metadata": {},
   "outputs": [
    {
     "name": "stderr",
     "output_type": "stream",
     "text": [
      "                                                                      \r"
     ]
    },
    {
     "data": {
      "text/plain": [
       "(349685, 99401)"
      ]
     },
     "execution_count": 6,
     "metadata": {},
     "output_type": "execute_result"
    }
   ],
   "source": [
    "ppi_paths = read_fold('ppiref_6A_filtered', 'whole')\n",
    "pdb_ids = set([path_to_pdb_id(p) for p in ppi_paths])\n",
    "len(ppi_paths), len(pdb_ids)"
   ]
  },
  {
   "cell_type": "code",
   "execution_count": 7,
   "metadata": {},
   "outputs": [
    {
     "data": {
      "text/plain": [
       "(52804, 15000)"
      ]
     },
     "execution_count": 7,
     "metadata": {},
     "output_type": "execute_result"
    }
   ],
   "source": [
    "pdb_ids_sample = set(random.sample(list(pdb_ids), 15_000))\n",
    "ppi_paths_sample = [p for p in ppi_paths if path_to_pdb_id(p) in pdb_ids_sample]\n",
    "ppi_ids_sample = [path_to_ppi_id(p) for p in ppi_paths_sample]\n",
    "len(ppi_paths_sample), len(pdb_ids_sample)"
   ]
  },
  {
   "attachments": {},
   "cell_type": "markdown",
   "metadata": {},
   "source": [
    "# Sequence similarity"
   ]
  },
  {
   "attachments": {},
   "cell_type": "markdown",
   "metadata": {},
   "source": [
    "### Extract all protein sequences into .fasta from .pdb files for PPIs"
   ]
  },
  {
   "cell_type": "code",
   "execution_count": 8,
   "metadata": {},
   "outputs": [
    {
     "name": "stderr",
     "output_type": "stream",
     "text": [
      "100%|██████████| 15000/15000 [02:49<00:00, 88.69it/s] \n"
     ]
    }
   ],
   "source": [
    "import multiprocessing\n",
    "from tqdm import tqdm\n",
    "from pathlib import Path\n",
    "\n",
    "def process_pdb(pdb):\n",
    "    try:\n",
    "        return pdb2fasta(dir_pdb / pdb_id_to_nested_suffix(pdb), verbose=False)\n",
    "    except Exception as e:\n",
    "        print(f'Error processing {pdb}: {e}')\n",
    "        return ''\n",
    "\n",
    "def parallel_pdb_to_fasta(pdb_ids):\n",
    "    with multiprocessing.Pool(processes=16) as pool:\n",
    "        fasta_parts = list(tqdm(pool.imap(process_pdb, pdb_ids), total=len(pdb_ids)))\n",
    "    return ''.join(fasta_parts)\n",
    "\n",
    "fasta = parallel_pdb_to_fasta(pdb_ids_sample)"
   ]
  },
  {
   "cell_type": "code",
   "execution_count": 10,
   "metadata": {},
   "outputs": [],
   "source": [
    "with open(tmp_dir / f'seqs_{seed}.fasta', 'w') as handle:\n",
    "    handle.write(fasta)\n",
    "\n",
    "with open(tmp_dir / f'ppis_{seed}.pkl', 'wb') as handle:\n",
    "    pickle.dump(ppi_ids_sample, handle)"
   ]
  },
  {
   "attachments": {},
   "cell_type": "markdown",
   "metadata": {},
   "source": [
    "### Run MMseqs2"
   ]
  },
  {
   "attachments": {},
   "cell_type": "markdown",
   "metadata": {},
   "source": [
    "```\n",
    "mmseqs easy-cluster ../PPIRef/ppiref/data/splits_tmp/seqs_0.fasta ppiref_synthetic_splits/clusterRes_0 tmp --min-seq-id 0.3\n",
    "```"
   ]
  },
  {
   "cell_type": "code",
   "execution_count": 17,
   "metadata": {},
   "outputs": [],
   "source": [
    "# Run 5 times for all seeds 0-4 to create 5 splits\n",
    "seed = 0"
   ]
  },
  {
   "cell_type": "code",
   "execution_count": 18,
   "metadata": {},
   "outputs": [],
   "source": [
    "path_mmseqs2_clusters = f'/scratch/project/open-26-23/antonb/MMseqs2/ppiref_synthetic_splits/clusterRes_{seed}_cluster.tsv'\n",
    "df_mmseqs2 = pd.read_csv(path_mmseqs2_clusters, sep='\\t', header=None)\n",
    "df_mmseqs2 = df_mmseqs2.to_numpy()\n",
    "with open(tmp_dir / f'ppis_{seed}.pkl', 'rb') as handle:\n",
    "    ppi_ids_sample = pickle.load(handle)\n",
    "pdb_ids_sample = [x.split('_')[0].upper() for x in ppi_ids_sample]"
   ]
  },
  {
   "cell_type": "code",
   "execution_count": 19,
   "metadata": {},
   "outputs": [
    {
     "name": "stderr",
     "output_type": "stream",
     "text": [
      "100%|██████████| 9676/9676 [00:00<00:00, 14104.14it/s]\n"
     ]
    },
    {
     "data": {
      "text/plain": [
       "5602"
      ]
     },
     "execution_count": 19,
     "metadata": {},
     "output_type": "execute_result"
    }
   ],
   "source": [
    "# Map clusters to nodes\n",
    "mapping = defaultdict(list)\n",
    "for c, n in df_mmseqs2:\n",
    "    mapping[c].append(n)\n",
    "\n",
    "# Create graph\n",
    "g = ig.Graph()\n",
    "\n",
    "# Add nodes\n",
    "for c, n in df_mmseqs2:\n",
    "    g.add_vertex(n)\n",
    "\n",
    "# Add PPI edges\n",
    "edges = []\n",
    "for ppi in ppi_ids_sample:\n",
    "    pdb, partners = ppi.split('_')[0], ppi.split('_')[1:]\n",
    "    n0, n1 = pdb.upper() + ':' + partners[0], pdb.upper() + ':' + partners[1]\n",
    "    edges.append((n0, n1))\n",
    "\n",
    "# Add MMseqs2 edges\n",
    "for c, ns in tqdm(mapping.items()):\n",
    "    for n0 in ns:\n",
    "        for n1 in ns:\n",
    "            edges.append((n0, n1))\n",
    "g.add_edges(edges)\n",
    "\n",
    "# Get connect components\n",
    "components = g.connected_components().subgraphs()\n",
    "len(components)"
   ]
  },
  {
   "cell_type": "code",
   "execution_count": 30,
   "metadata": {},
   "outputs": [
    {
     "name": "stderr",
     "output_type": "stream",
     "text": [
      "100%|██████████| 53344/53344 [00:42<00:00, 1244.07it/s]\n"
     ]
    },
    {
     "data": {
      "text/plain": [
       "(49757, 3587)"
      ]
     },
     "execution_count": 30,
     "metadata": {},
     "output_type": "execute_result"
    }
   ],
   "source": [
    "components_train, components_test = train_test_split(components, test_size=0.1, random_state=42)\n",
    "nodes_train = sum([g.vs()['name'] for g in components_train], start=[])\n",
    "nodes_test = sum([g.vs()['name'] for g in components_test], start=[])\n",
    "\n",
    "folds = defaultdict(list)\n",
    "for ppi in tqdm(ppi_ids_sample):\n",
    "    pdb, partners = ppi.split('_')[0], ppi.split('_')[1:]\n",
    "    n0, n1 = pdb.upper() + ':' + partners[0], pdb.upper() + ':' + partners[1]\n",
    "    if n0 in nodes_train:\n",
    "        assert n1 in nodes_train\n",
    "        folds['train'].append(ppi)\n",
    "    elif n1 in nodes_test:\n",
    "        assert n1 in nodes_test\n",
    "        folds['test'].append(ppi)\n",
    "    else:\n",
    "        raise RuntimeError(f'{n0} is not in folds.')\n",
    "\n",
    "len(folds['train']), len(folds['test'])"
   ]
  },
  {
   "cell_type": "code",
   "execution_count": 31,
   "metadata": {},
   "outputs": [
    {
     "name": "stderr",
     "output_type": "stream",
     "text": [
      "/scratch/project/open-26-23/antonb/PPIRef/ppiref/split.py:55: UserWarning: Split is not complete: 53344 of 765139 PPIs contained.\n",
      "  warnings.warn(\n"
     ]
    }
   ],
   "source": [
    "write_split(dir_splits / f'seq_{seed}.json', dir_ppi, folds)"
   ]
  },
  {
   "attachments": {},
   "cell_type": "markdown",
   "metadata": {},
   "source": [
    "# Random split (PDB + partners codes)"
   ]
  },
  {
   "cell_type": "code",
   "execution_count": 125,
   "metadata": {},
   "outputs": [
    {
     "name": "stderr",
     "output_type": "stream",
     "text": [
      "/scratch/project/open-26-23/antonb/PPIRef/ppiref/split.py:55: UserWarning: Split is not complete: 52804 of 765139 PPIs contained.\n",
      "  warnings.warn(\n",
      "/scratch/project/open-26-23/antonb/PPIRef/ppiref/split.py:55: UserWarning: Split is not complete: 53341 of 765139 PPIs contained.\n",
      "  warnings.warn(\n",
      "/scratch/project/open-26-23/antonb/PPIRef/ppiref/split.py:55: UserWarning: Split is not complete: 54224 of 765139 PPIs contained.\n",
      "  warnings.warn(\n",
      "/scratch/project/open-26-23/antonb/PPIRef/ppiref/split.py:55: UserWarning: Split is not complete: 54349 of 765139 PPIs contained.\n",
      "  warnings.warn(\n",
      "/scratch/project/open-26-23/antonb/PPIRef/ppiref/split.py:55: UserWarning: Split is not complete: 53344 of 765139 PPIs contained.\n",
      "  warnings.warn(\n"
     ]
    }
   ],
   "source": [
    "for seed in range(5):\n",
    "    set_seed(seed)\n",
    "\n",
    "    with open(tmp_dir / f'ppis_{seed}.pkl', 'rb') as handle:\n",
    "        ppi_ids_sample = pickle.load(handle)\n",
    "    \n",
    "    ppi_ids_sample_train, ppi_ids_sample_test = train_test_split(ppi_ids_sample, test_size=0.1, random_state=42)\n",
    "    folds = {'train': ppi_ids_sample_train, 'test': ppi_ids_sample_test}\n",
    "    write_split(dir_splits / f'random_{seed}.json', dir_ppi, folds)"
   ]
  },
  {
   "attachments": {},
   "cell_type": "markdown",
   "metadata": {},
   "source": [
    "# PDB code split\n"
   ]
  },
  {
   "cell_type": "code",
   "execution_count": 130,
   "metadata": {},
   "outputs": [
    {
     "name": "stderr",
     "output_type": "stream",
     "text": [
      "  0%|          | 0/5 [00:00<?, ?it/s]/scratch/project/open-26-23/antonb/PPIRef/ppiref/split.py:55: UserWarning: Split is not complete: 52804 of 765139 PPIs contained.\n",
      "  warnings.warn(\n",
      " 20%|██        | 1/5 [00:07<00:28,  7.13s/it]/scratch/project/open-26-23/antonb/PPIRef/ppiref/split.py:55: UserWarning: Split is not complete: 53341 of 765139 PPIs contained.\n",
      "  warnings.warn(\n",
      " 40%|████      | 2/5 [00:14<00:22,  7.55s/it]/scratch/project/open-26-23/antonb/PPIRef/ppiref/split.py:55: UserWarning: Split is not complete: 54224 of 765139 PPIs contained.\n",
      "  warnings.warn(\n",
      " 60%|██████    | 3/5 [00:22<00:15,  7.73s/it]/scratch/project/open-26-23/antonb/PPIRef/ppiref/split.py:55: UserWarning: Split is not complete: 54349 of 765139 PPIs contained.\n",
      "  warnings.warn(\n",
      " 80%|████████  | 4/5 [00:30<00:07,  7.51s/it]/scratch/project/open-26-23/antonb/PPIRef/ppiref/split.py:55: UserWarning: Split is not complete: 53344 of 765139 PPIs contained.\n",
      "  warnings.warn(\n",
      "100%|██████████| 5/5 [00:38<00:00,  7.62s/it]\n"
     ]
    }
   ],
   "source": [
    "for seed in tqdm(range(5)):\n",
    "    set_seed(seed)\n",
    "\n",
    "    with open(tmp_dir / f'ppis_{seed}.pkl', 'rb') as handle:\n",
    "        ppi_ids_sample = pickle.load(handle)\n",
    "    \n",
    "    pdb_ids_sample = list(set([x.split('_')[0] for x in ppi_ids_sample]))\n",
    "    pdb_ids_sample_train, pdb_ids_sample_test = train_test_split(pdb_ids_sample, test_size=0.1, random_state=42)\n",
    "    pdb_ids_sample_train, pdb_ids_sample_test = set(pdb_ids_sample_train), set(pdb_ids_sample_test)\n",
    "\n",
    "    ppi_ids_sample_train = [x for x in ppi_ids_sample if x.split('_')[0] in pdb_ids_sample_train]\n",
    "    ppi_ids_sample_test = [x for x in ppi_ids_sample if x.split('_')[0] in pdb_ids_sample_test]\n",
    "    \n",
    "    folds = {'train': ppi_ids_sample_train, 'test': ppi_ids_sample_test}\n",
    "    write_split(dir_splits / f'pdb_{seed}.json', dir_ppi, folds)"
   ]
  },
  {
   "attachments": {},
   "cell_type": "markdown",
   "metadata": {},
   "source": [
    "# Time split"
   ]
  },
  {
   "cell_type": "code",
   "execution_count": 150,
   "metadata": {},
   "outputs": [
    {
     "data": {
      "text/html": [
       "<div>\n",
       "<style scoped>\n",
       "    .dataframe tbody tr th:only-of-type {\n",
       "        vertical-align: middle;\n",
       "    }\n",
       "\n",
       "    .dataframe tbody tr th {\n",
       "        vertical-align: top;\n",
       "    }\n",
       "\n",
       "    .dataframe thead th {\n",
       "        text-align: right;\n",
       "    }\n",
       "</style>\n",
       "<table border=\"1\" class=\"dataframe\">\n",
       "  <thead>\n",
       "    <tr style=\"text-align: right;\">\n",
       "      <th></th>\n",
       "      <th>PATH</th>\n",
       "      <th>KIND</th>\n",
       "      <th>EXTRACTION RADIUS</th>\n",
       "      <th>EXPANSION RADIUS</th>\n",
       "      <th>RESOLUTION</th>\n",
       "      <th>STRUCTURE METHOD</th>\n",
       "      <th>DEPOSITION DATE</th>\n",
       "      <th>RELEASE DATE</th>\n",
       "      <th>BSA</th>\n",
       "    </tr>\n",
       "    <tr>\n",
       "      <th>PPI</th>\n",
       "      <th></th>\n",
       "      <th></th>\n",
       "      <th></th>\n",
       "      <th></th>\n",
       "      <th></th>\n",
       "      <th></th>\n",
       "      <th></th>\n",
       "      <th></th>\n",
       "      <th></th>\n",
       "    </tr>\n",
       "  </thead>\n",
       "  <tbody>\n",
       "    <tr>\n",
       "      <th>6q2a_F_O</th>\n",
       "      <td>/scratch/project/open-26-23/antonb/PPIRef/ppir...</td>\n",
       "      <td>heavy</td>\n",
       "      <td>6.0</td>\n",
       "      <td>0.0</td>\n",
       "      <td>2.60</td>\n",
       "      <td>x-ray diffraction</td>\n",
       "      <td>2019-08-07</td>\n",
       "      <td>2020-06-17</td>\n",
       "      <td>659.734682</td>\n",
       "    </tr>\n",
       "    <tr>\n",
       "      <th>3q2k_I_P</th>\n",
       "      <td>/scratch/project/open-26-23/antonb/PPIRef/ppir...</td>\n",
       "      <td>heavy</td>\n",
       "      <td>6.0</td>\n",
       "      <td>0.0</td>\n",
       "      <td>2.13</td>\n",
       "      <td>x-ray diffraction</td>\n",
       "      <td>2010-12-20</td>\n",
       "      <td>2011-01-19</td>\n",
       "      <td>50.450693</td>\n",
       "    </tr>\n",
       "    <tr>\n",
       "      <th>8q2k_A_C</th>\n",
       "      <td>/scratch/project/open-26-23/antonb/PPIRef/ppir...</td>\n",
       "      <td>heavy</td>\n",
       "      <td>6.0</td>\n",
       "      <td>0.0</td>\n",
       "      <td>2.88</td>\n",
       "      <td>electron microscopy</td>\n",
       "      <td>2023-08-02</td>\n",
       "      <td>2023-08-30</td>\n",
       "      <td>3079.544686</td>\n",
       "    </tr>\n",
       "    <tr>\n",
       "      <th>4q2k_A_D</th>\n",
       "      <td>/scratch/project/open-26-23/antonb/PPIRef/ppir...</td>\n",
       "      <td>heavy</td>\n",
       "      <td>6.0</td>\n",
       "      <td>0.0</td>\n",
       "      <td>2.20</td>\n",
       "      <td>x-ray diffraction</td>\n",
       "      <td>2014-04-09</td>\n",
       "      <td>2014-07-23</td>\n",
       "      <td>462.436532</td>\n",
       "    </tr>\n",
       "    <tr>\n",
       "      <th>6q27_B_D</th>\n",
       "      <td>/scratch/project/open-26-23/antonb/PPIRef/ppir...</td>\n",
       "      <td>heavy</td>\n",
       "      <td>6.0</td>\n",
       "      <td>0.0</td>\n",
       "      <td>2.20</td>\n",
       "      <td>x-ray diffraction</td>\n",
       "      <td>2019-08-07</td>\n",
       "      <td>2020-01-22</td>\n",
       "      <td>689.826471</td>\n",
       "    </tr>\n",
       "    <tr>\n",
       "      <th>...</th>\n",
       "      <td>...</td>\n",
       "      <td>...</td>\n",
       "      <td>...</td>\n",
       "      <td>...</td>\n",
       "      <td>...</td>\n",
       "      <td>...</td>\n",
       "      <td>...</td>\n",
       "      <td>...</td>\n",
       "      <td>...</td>\n",
       "    </tr>\n",
       "    <tr>\n",
       "      <th>4s20_C_I</th>\n",
       "      <td>/scratch/project/open-26-23/antonb/PPIRef/ppir...</td>\n",
       "      <td>heavy</td>\n",
       "      <td>6.0</td>\n",
       "      <td>0.0</td>\n",
       "      <td>4.70</td>\n",
       "      <td>x-ray diffraction</td>\n",
       "      <td>2015-01-16</td>\n",
       "      <td>2015-02-04</td>\n",
       "      <td>281.223175</td>\n",
       "    </tr>\n",
       "    <tr>\n",
       "      <th>1s2g_A_B</th>\n",
       "      <td>/scratch/project/open-26-23/antonb/PPIRef/ppir...</td>\n",
       "      <td>heavy</td>\n",
       "      <td>6.0</td>\n",
       "      <td>0.0</td>\n",
       "      <td>2.10</td>\n",
       "      <td>x-ray diffraction</td>\n",
       "      <td>2004-01-08</td>\n",
       "      <td>2004-03-30</td>\n",
       "      <td>887.002861</td>\n",
       "    </tr>\n",
       "    <tr>\n",
       "      <th>3s2d_A_F</th>\n",
       "      <td>/scratch/project/open-26-23/antonb/PPIRef/ppir...</td>\n",
       "      <td>heavy</td>\n",
       "      <td>6.0</td>\n",
       "      <td>0.0</td>\n",
       "      <td>3.20</td>\n",
       "      <td>x-ray diffraction</td>\n",
       "      <td>2011-05-16</td>\n",
       "      <td>2011-08-10</td>\n",
       "      <td>1807.687696</td>\n",
       "    </tr>\n",
       "    <tr>\n",
       "      <th>3s2h_A_I</th>\n",
       "      <td>/scratch/project/open-26-23/antonb/PPIRef/ppir...</td>\n",
       "      <td>heavy</td>\n",
       "      <td>6.0</td>\n",
       "      <td>0.0</td>\n",
       "      <td>3.30</td>\n",
       "      <td>x-ray diffraction</td>\n",
       "      <td>2011-05-16</td>\n",
       "      <td>2011-08-17</td>\n",
       "      <td>1591.343698</td>\n",
       "    </tr>\n",
       "    <tr>\n",
       "      <th>3s2c_J_L</th>\n",
       "      <td>/scratch/project/open-26-23/antonb/PPIRef/ppir...</td>\n",
       "      <td>heavy</td>\n",
       "      <td>6.0</td>\n",
       "      <td>0.0</td>\n",
       "      <td>3.00</td>\n",
       "      <td>x-ray diffraction</td>\n",
       "      <td>2011-05-16</td>\n",
       "      <td>2012-02-01</td>\n",
       "      <td>682.046241</td>\n",
       "    </tr>\n",
       "  </tbody>\n",
       "</table>\n",
       "<p>765139 rows × 9 columns</p>\n",
       "</div>"
      ],
      "text/plain": [
       "                                                       PATH   KIND  \\\n",
       "PPI                                                                  \n",
       "6q2a_F_O  /scratch/project/open-26-23/antonb/PPIRef/ppir...  heavy   \n",
       "3q2k_I_P  /scratch/project/open-26-23/antonb/PPIRef/ppir...  heavy   \n",
       "8q2k_A_C  /scratch/project/open-26-23/antonb/PPIRef/ppir...  heavy   \n",
       "4q2k_A_D  /scratch/project/open-26-23/antonb/PPIRef/ppir...  heavy   \n",
       "6q27_B_D  /scratch/project/open-26-23/antonb/PPIRef/ppir...  heavy   \n",
       "...                                                     ...    ...   \n",
       "4s20_C_I  /scratch/project/open-26-23/antonb/PPIRef/ppir...  heavy   \n",
       "1s2g_A_B  /scratch/project/open-26-23/antonb/PPIRef/ppir...  heavy   \n",
       "3s2d_A_F  /scratch/project/open-26-23/antonb/PPIRef/ppir...  heavy   \n",
       "3s2h_A_I  /scratch/project/open-26-23/antonb/PPIRef/ppir...  heavy   \n",
       "3s2c_J_L  /scratch/project/open-26-23/antonb/PPIRef/ppir...  heavy   \n",
       "\n",
       "          EXTRACTION RADIUS  EXPANSION RADIUS  RESOLUTION  \\\n",
       "PPI                                                         \n",
       "6q2a_F_O                6.0               0.0        2.60   \n",
       "3q2k_I_P                6.0               0.0        2.13   \n",
       "8q2k_A_C                6.0               0.0        2.88   \n",
       "4q2k_A_D                6.0               0.0        2.20   \n",
       "6q27_B_D                6.0               0.0        2.20   \n",
       "...                     ...               ...         ...   \n",
       "4s20_C_I                6.0               0.0        4.70   \n",
       "1s2g_A_B                6.0               0.0        2.10   \n",
       "3s2d_A_F                6.0               0.0        3.20   \n",
       "3s2h_A_I                6.0               0.0        3.30   \n",
       "3s2c_J_L                6.0               0.0        3.00   \n",
       "\n",
       "             STRUCTURE METHOD DEPOSITION DATE RELEASE DATE          BSA  \n",
       "PPI                                                                      \n",
       "6q2a_F_O    x-ray diffraction      2019-08-07   2020-06-17   659.734682  \n",
       "3q2k_I_P    x-ray diffraction      2010-12-20   2011-01-19    50.450693  \n",
       "8q2k_A_C  electron microscopy      2023-08-02   2023-08-30  3079.544686  \n",
       "4q2k_A_D    x-ray diffraction      2014-04-09   2014-07-23   462.436532  \n",
       "6q27_B_D    x-ray diffraction      2019-08-07   2020-01-22   689.826471  \n",
       "...                       ...             ...          ...          ...  \n",
       "4s20_C_I    x-ray diffraction      2015-01-16   2015-02-04   281.223175  \n",
       "1s2g_A_B    x-ray diffraction      2004-01-08   2004-03-30   887.002861  \n",
       "3s2d_A_F    x-ray diffraction      2011-05-16   2011-08-10  1807.687696  \n",
       "3s2h_A_I    x-ray diffraction      2011-05-16   2011-08-17  1591.343698  \n",
       "3s2c_J_L    x-ray diffraction      2011-05-16   2012-02-01   682.046241  \n",
       "\n",
       "[765139 rows x 9 columns]"
      ]
     },
     "execution_count": 150,
     "metadata": {},
     "output_type": "execute_result"
    }
   ],
   "source": [
    "def ppi_file_to_df_row(path):\n",
    "    ppi = PPI(path)\n",
    "    if path.suffix == '.noppi':\n",
    "        return {}\n",
    "    return {'PATH': path, **ppi.stats}\n",
    "\n",
    "df_path = PPIREF_DATA_DIR / 'ppiref/ppi_6A_stats/raw_stats.csv'\n",
    "\n",
    "df = pd.read_csv(df_path, dtype={'PATH': str, 'KIND': str, 'STRUCTURE METHOD': str})\n",
    "pd.to_datetime(df['DEPOSITION DATE'], format='%Y-%m-%d')\n",
    "pd.to_datetime(df['RELEASE DATE'], format='%Y-%m-%d')\n",
    "\n",
    "df = df.dropna(how='all')\n",
    "\n",
    "df['PPI'] = df['PATH'].apply(lambda x: path_to_ppi_id(x))\n",
    "df = df.set_index('PPI')\n",
    "\n",
    "df"
   ]
  },
  {
   "cell_type": "code",
   "execution_count": 156,
   "metadata": {},
   "outputs": [
    {
     "name": "stderr",
     "output_type": "stream",
     "text": [
      "  0%|          | 0/5 [00:00<?, ?it/s]/scratch/project/open-26-23/antonb/PPIRef/ppiref/split.py:55: UserWarning: Split is not complete: 52804 of 765139 PPIs contained.\n",
      "  warnings.warn(\n",
      " 20%|██        | 1/5 [00:06<00:27,  6.98s/it]/scratch/project/open-26-23/antonb/PPIRef/ppiref/split.py:55: UserWarning: Split is not complete: 53341 of 765139 PPIs contained.\n",
      "  warnings.warn(\n",
      " 40%|████      | 2/5 [00:15<00:24,  8.14s/it]/scratch/project/open-26-23/antonb/PPIRef/ppiref/split.py:55: UserWarning: Split is not complete: 54224 of 765139 PPIs contained.\n",
      "  warnings.warn(\n",
      " 60%|██████    | 3/5 [00:22<00:15,  7.65s/it]/scratch/project/open-26-23/antonb/PPIRef/ppiref/split.py:55: UserWarning: Split is not complete: 54349 of 765139 PPIs contained.\n",
      "  warnings.warn(\n",
      " 80%|████████  | 4/5 [00:30<00:07,  7.74s/it]/scratch/project/open-26-23/antonb/PPIRef/ppiref/split.py:55: UserWarning: Split is not complete: 53344 of 765139 PPIs contained.\n",
      "  warnings.warn(\n",
      "100%|██████████| 5/5 [00:38<00:00,  7.75s/it]\n"
     ]
    }
   ],
   "source": [
    "for seed in tqdm(range(5)):\n",
    "    set_seed(seed)\n",
    "\n",
    "    with open(tmp_dir / f'ppis_{seed}.pkl', 'rb') as handle:\n",
    "        ppi_ids_sample = pickle.load(handle)\n",
    "    \n",
    "    df_sample = df.loc[ppi_ids_sample]\n",
    "    df_sample = df_sample.sort_values('DEPOSITION DATE')\n",
    "    cutoff = int(len(df_sample) * 0.9)\n",
    "    df_sample_train = df_sample.iloc[:cutoff]\n",
    "    df_sample_test = df_sample.iloc[cutoff:]\n",
    "\n",
    "    ppi_ids_sample_train = set(df_sample_train.index)\n",
    "    ppi_ids_sample_test = set(df_sample_test.index)\n",
    "\n",
    "    folds = {'train': ppi_ids_sample_train, 'test': ppi_ids_sample_test}\n",
    "    write_split(dir_splits / f'time_{seed}.json', dir_ppi, folds)"
   ]
  },
  {
   "attachments": {},
   "cell_type": "markdown",
   "metadata": {},
   "source": [
    "# Estimate leakage"
   ]
  },
  {
   "cell_type": "code",
   "execution_count": 8,
   "metadata": {},
   "outputs": [
    {
     "name": "stderr",
     "output_type": "stream",
     "text": [
      "  0%|          | 0/20 [00:00<?, ?it/s]"
     ]
    },
    {
     "name": "stdout",
     "output_type": "stream",
     "text": [
      "54349\n"
     ]
    },
    {
     "name": "stderr",
     "output_type": "stream",
     "text": [
      "  5%|▌         | 1/20 [00:02<00:56,  2.98s/it]"
     ]
    },
    {
     "name": "stdout",
     "output_type": "stream",
     "text": [
      "53341\n"
     ]
    },
    {
     "name": "stderr",
     "output_type": "stream",
     "text": [
      " 10%|█         | 2/20 [00:05<00:53,  2.98s/it]"
     ]
    },
    {
     "name": "stdout",
     "output_type": "stream",
     "text": [
      "53341\n"
     ]
    },
    {
     "name": "stderr",
     "output_type": "stream",
     "text": [
      " 15%|█▌        | 3/20 [00:08<00:49,  2.90s/it]"
     ]
    },
    {
     "name": "stdout",
     "output_type": "stream",
     "text": [
      "54224\n"
     ]
    },
    {
     "name": "stderr",
     "output_type": "stream",
     "text": [
      " 20%|██        | 4/20 [00:11<00:46,  2.92s/it]"
     ]
    },
    {
     "name": "stdout",
     "output_type": "stream",
     "text": [
      "54224\n"
     ]
    },
    {
     "name": "stderr",
     "output_type": "stream",
     "text": [
      " 25%|██▌       | 5/20 [00:14<00:44,  2.96s/it]"
     ]
    },
    {
     "name": "stdout",
     "output_type": "stream",
     "text": [
      "53344\n"
     ]
    },
    {
     "name": "stderr",
     "output_type": "stream",
     "text": [
      " 30%|███       | 6/20 [00:17<00:41,  2.96s/it]"
     ]
    },
    {
     "name": "stdout",
     "output_type": "stream",
     "text": [
      "52804\n"
     ]
    },
    {
     "name": "stderr",
     "output_type": "stream",
     "text": [
      " 35%|███▌      | 7/20 [00:20<00:38,  2.97s/it]"
     ]
    },
    {
     "name": "stdout",
     "output_type": "stream",
     "text": [
      "53344\n"
     ]
    },
    {
     "name": "stderr",
     "output_type": "stream",
     "text": [
      " 40%|████      | 8/20 [00:23<00:35,  2.99s/it]"
     ]
    },
    {
     "name": "stdout",
     "output_type": "stream",
     "text": [
      "53344\n"
     ]
    },
    {
     "name": "stderr",
     "output_type": "stream",
     "text": [
      " 45%|████▌     | 9/20 [00:26<00:32,  2.99s/it]"
     ]
    },
    {
     "name": "stdout",
     "output_type": "stream",
     "text": [
      "53344\n"
     ]
    },
    {
     "name": "stderr",
     "output_type": "stream",
     "text": [
      " 50%|█████     | 10/20 [00:29<00:29,  3.00s/it]"
     ]
    },
    {
     "name": "stdout",
     "output_type": "stream",
     "text": [
      "53341\n"
     ]
    },
    {
     "name": "stderr",
     "output_type": "stream",
     "text": [
      " 55%|█████▌    | 11/20 [00:32<00:26,  2.97s/it]"
     ]
    },
    {
     "name": "stdout",
     "output_type": "stream",
     "text": [
      "52804\n"
     ]
    },
    {
     "name": "stderr",
     "output_type": "stream",
     "text": [
      " 60%|██████    | 12/20 [00:35<00:23,  2.94s/it]"
     ]
    },
    {
     "name": "stdout",
     "output_type": "stream",
     "text": [
      "54349\n"
     ]
    },
    {
     "name": "stderr",
     "output_type": "stream",
     "text": [
      " 65%|██████▌   | 13/20 [00:38<00:20,  2.95s/it]"
     ]
    },
    {
     "name": "stdout",
     "output_type": "stream",
     "text": [
      "52804\n"
     ]
    },
    {
     "name": "stderr",
     "output_type": "stream",
     "text": [
      " 70%|███████   | 14/20 [00:41<00:17,  2.92s/it]"
     ]
    },
    {
     "name": "stdout",
     "output_type": "stream",
     "text": [
      "53341\n"
     ]
    },
    {
     "name": "stderr",
     "output_type": "stream",
     "text": [
      " 75%|███████▌  | 15/20 [00:44<00:14,  2.85s/it]"
     ]
    },
    {
     "name": "stdout",
     "output_type": "stream",
     "text": [
      "54349\n"
     ]
    },
    {
     "name": "stderr",
     "output_type": "stream",
     "text": [
      " 80%|████████  | 16/20 [00:46<00:11,  2.84s/it]"
     ]
    },
    {
     "name": "stdout",
     "output_type": "stream",
     "text": [
      "54224\n"
     ]
    },
    {
     "name": "stderr",
     "output_type": "stream",
     "text": [
      " 85%|████████▌ | 17/20 [00:49<00:08,  2.83s/it]"
     ]
    },
    {
     "name": "stdout",
     "output_type": "stream",
     "text": [
      "54224\n"
     ]
    },
    {
     "name": "stderr",
     "output_type": "stream",
     "text": [
      " 90%|█████████ | 18/20 [00:52<00:05,  2.85s/it]"
     ]
    },
    {
     "name": "stdout",
     "output_type": "stream",
     "text": [
      "52804\n"
     ]
    },
    {
     "name": "stderr",
     "output_type": "stream",
     "text": [
      " 95%|█████████▌| 19/20 [00:55<00:02,  2.89s/it]"
     ]
    },
    {
     "name": "stdout",
     "output_type": "stream",
     "text": [
      "54349\n"
     ]
    },
    {
     "name": "stderr",
     "output_type": "stream",
     "text": [
      "100%|██████████| 20/20 [00:58<00:00,  2.93s/it]\n"
     ]
    }
   ],
   "source": [
    "df_leaks = []\n",
    "\n",
    "path_emb = Path(PPIREF_DATA_DIR / 'ppiref/clustering/idist_emb_ppiref_6A_filtered,whole.csv')\n",
    "path_emb = Path(path_emb)\n",
    "df_emb = pd.read_csv(path_emb, index_col=0)\n",
    "\n",
    "for path in tqdm(list(dir_splits.glob('*.json'))):\n",
    "\n",
    "    ppi_ids_train = read_fold(path, 'train', full_paths=False)\n",
    "    ppi_ids_test = read_fold(path, 'test', full_paths=False)\n",
    "\n",
    "    print(len(ppi_ids_train) + len(ppi_ids_test))\n",
    "\n",
    "    df_emb_train = df_emb.loc[ppi_ids_train]\n",
    "    df_emb_test = df_emb.loc[ppi_ids_test]\n",
    "\n",
    "    idist = IDist()\n",
    "    idist.read_embeddings(df_emb_train, dropna=True)\n",
    "\n",
    "    df_emb_test = df_emb_test.replace(np.nan, 0.0)\n",
    "    idist_hits = idist.query(df_emb_test.to_numpy())\n",
    "    df_emb_test['idist_hits'] = [len(row_hits) for row_hits in idist_hits[0]]\n",
    "\n",
    "    n_leaks = df_emb_test['idist_hits'].astype(bool).mean()\n",
    "    df_leaks.append({'Split': path.stem, 'Leakage': n_leaks})"
   ]
  },
  {
   "cell_type": "code",
   "execution_count": 9,
   "metadata": {},
   "outputs": [],
   "source": [
    "df_leaks.append({'Split': 'interface', 'Leakage': 0})"
   ]
  },
  {
   "cell_type": "code",
   "execution_count": 10,
   "metadata": {},
   "outputs": [
    {
     "data": {
      "text/html": [
       "<div>\n",
       "<style scoped>\n",
       "    .dataframe tbody tr th:only-of-type {\n",
       "        vertical-align: middle;\n",
       "    }\n",
       "\n",
       "    .dataframe tbody tr th {\n",
       "        vertical-align: top;\n",
       "    }\n",
       "\n",
       "    .dataframe thead th {\n",
       "        text-align: right;\n",
       "    }\n",
       "</style>\n",
       "<table border=\"1\" class=\"dataframe\">\n",
       "  <thead>\n",
       "    <tr style=\"text-align: right;\">\n",
       "      <th></th>\n",
       "      <th>Split</th>\n",
       "      <th>Leakage</th>\n",
       "      <th>Split kind</th>\n",
       "    </tr>\n",
       "  </thead>\n",
       "  <tbody>\n",
       "    <tr>\n",
       "      <th>12</th>\n",
       "      <td>random_3</td>\n",
       "      <td>0.866605</td>\n",
       "      <td>random</td>\n",
       "    </tr>\n",
       "    <tr>\n",
       "      <th>4</th>\n",
       "      <td>random_2</td>\n",
       "      <td>0.865019</td>\n",
       "      <td>random</td>\n",
       "    </tr>\n",
       "    <tr>\n",
       "      <th>1</th>\n",
       "      <td>random_1</td>\n",
       "      <td>0.863543</td>\n",
       "      <td>random</td>\n",
       "    </tr>\n",
       "    <tr>\n",
       "      <th>11</th>\n",
       "      <td>random_0</td>\n",
       "      <td>0.857035</td>\n",
       "      <td>random</td>\n",
       "    </tr>\n",
       "    <tr>\n",
       "      <th>9</th>\n",
       "      <td>random_4</td>\n",
       "      <td>0.853983</td>\n",
       "      <td>random</td>\n",
       "    </tr>\n",
       "    <tr>\n",
       "      <th>17</th>\n",
       "      <td>pdb_2</td>\n",
       "      <td>0.697821</td>\n",
       "      <td>pdb</td>\n",
       "    </tr>\n",
       "    <tr>\n",
       "      <th>13</th>\n",
       "      <td>pdb_0</td>\n",
       "      <td>0.650706</td>\n",
       "      <td>pdb</td>\n",
       "    </tr>\n",
       "    <tr>\n",
       "      <th>8</th>\n",
       "      <td>time_4</td>\n",
       "      <td>0.650047</td>\n",
       "      <td>time</td>\n",
       "    </tr>\n",
       "    <tr>\n",
       "      <th>10</th>\n",
       "      <td>pdb_1</td>\n",
       "      <td>0.634474</td>\n",
       "      <td>pdb</td>\n",
       "    </tr>\n",
       "    <tr>\n",
       "      <th>14</th>\n",
       "      <td>time_1</td>\n",
       "      <td>0.630178</td>\n",
       "      <td>time</td>\n",
       "    </tr>\n",
       "    <tr>\n",
       "      <th>5</th>\n",
       "      <td>pdb_4</td>\n",
       "      <td>0.627748</td>\n",
       "      <td>pdb</td>\n",
       "    </tr>\n",
       "    <tr>\n",
       "      <th>0</th>\n",
       "      <td>pdb_3</td>\n",
       "      <td>0.615356</td>\n",
       "      <td>pdb</td>\n",
       "    </tr>\n",
       "    <tr>\n",
       "      <th>16</th>\n",
       "      <td>time_2</td>\n",
       "      <td>0.604462</td>\n",
       "      <td>time</td>\n",
       "    </tr>\n",
       "    <tr>\n",
       "      <th>18</th>\n",
       "      <td>time_0</td>\n",
       "      <td>0.599886</td>\n",
       "      <td>time</td>\n",
       "    </tr>\n",
       "    <tr>\n",
       "      <th>19</th>\n",
       "      <td>time_3</td>\n",
       "      <td>0.586201</td>\n",
       "      <td>time</td>\n",
       "    </tr>\n",
       "    <tr>\n",
       "      <th>15</th>\n",
       "      <td>seq_3</td>\n",
       "      <td>0.376126</td>\n",
       "      <td>seq</td>\n",
       "    </tr>\n",
       "    <tr>\n",
       "      <th>2</th>\n",
       "      <td>seq_1</td>\n",
       "      <td>0.308933</td>\n",
       "      <td>seq</td>\n",
       "    </tr>\n",
       "    <tr>\n",
       "      <th>7</th>\n",
       "      <td>seq_4</td>\n",
       "      <td>0.293003</td>\n",
       "      <td>seq</td>\n",
       "    </tr>\n",
       "    <tr>\n",
       "      <th>6</th>\n",
       "      <td>seq_0</td>\n",
       "      <td>0.268366</td>\n",
       "      <td>seq</td>\n",
       "    </tr>\n",
       "    <tr>\n",
       "      <th>3</th>\n",
       "      <td>seq_2</td>\n",
       "      <td>0.261203</td>\n",
       "      <td>seq</td>\n",
       "    </tr>\n",
       "    <tr>\n",
       "      <th>20</th>\n",
       "      <td>interface</td>\n",
       "      <td>0.000000</td>\n",
       "      <td>interface</td>\n",
       "    </tr>\n",
       "  </tbody>\n",
       "</table>\n",
       "</div>"
      ],
      "text/plain": [
       "        Split   Leakage Split kind\n",
       "12   random_3  0.866605     random\n",
       "4    random_2  0.865019     random\n",
       "1    random_1  0.863543     random\n",
       "11   random_0  0.857035     random\n",
       "9    random_4  0.853983     random\n",
       "17      pdb_2  0.697821        pdb\n",
       "13      pdb_0  0.650706        pdb\n",
       "8      time_4  0.650047       time\n",
       "10      pdb_1  0.634474        pdb\n",
       "14     time_1  0.630178       time\n",
       "5       pdb_4  0.627748        pdb\n",
       "0       pdb_3  0.615356        pdb\n",
       "16     time_2  0.604462       time\n",
       "18     time_0  0.599886       time\n",
       "19     time_3  0.586201       time\n",
       "15      seq_3  0.376126        seq\n",
       "2       seq_1  0.308933        seq\n",
       "7       seq_4  0.293003        seq\n",
       "6       seq_0  0.268366        seq\n",
       "3       seq_2  0.261203        seq\n",
       "20  interface  0.000000  interface"
      ]
     },
     "execution_count": 10,
     "metadata": {},
     "output_type": "execute_result"
    }
   ],
   "source": [
    "df_leaks = pd.DataFrame(df_leaks)\n",
    "df_leaks['Split kind'] = df_leaks['Split'].apply(lambda x: x.split('_')[0])\n",
    "df_leaks = df_leaks.sort_values('Leakage', ascending=False)\n",
    "df_leaks"
   ]
  },
  {
   "attachments": {},
   "cell_type": "markdown",
   "metadata": {},
   "source": [
    "## Plot"
   ]
  },
  {
   "cell_type": "code",
   "execution_count": 10,
   "metadata": {},
   "outputs": [],
   "source": [
    "init_plotting()"
   ]
  },
  {
   "cell_type": "code",
   "execution_count": 11,
   "metadata": {},
   "outputs": [
    {
     "data": {
      "image/png": "[encoded data removed]",
      "text/plain": [
       "<Figure size 300x300 with 1 Axes>"
      ]
     },
     "metadata": {},
     "output_type": "display_data"
    }
   ],
   "source": [
    "plt.figure(figsize=(3, 3))\n",
    "palette = list(reversed(['#ffc100',\n",
    "'#ff9a00',\n",
    "'#ff7400',\n",
    "'#ff4d00',\n",
    "'#ff0000']))\n",
    "ax = sns.barplot(data=df_leaks, x='Split kind', y='Leakage', errorbar=('sd'), palette=sns.color_palette(palette, 4))\n",
    "ax.bar_label(ax.containers[0], fontsize=10)\n",
    "# plt.xticks([])\n",
    "# plt.yticks([])\n",
    "# plt.xlabel('')\n",
    "# plt.ylabel('')\n",
    "plt.xticks(rotation=45)\n",
    "# plt.yrange = (0, 1)\n",
    "plt.show()"
   ]
  },
  {
   "cell_type": "code",
   "execution_count": 12,
   "metadata": {},
   "outputs": [
    {
     "data": {
      "image/png": "[encoded data removed]",
      "text/plain": [
       "<Figure size 300x300 with 1 Axes>"
      ]
     },
     "metadata": {},
     "output_type": "display_data"
    }
   ],
   "source": [
    "plt.figure(figsize=(3, 3))\n",
    "# palette = ['#F50662', '#7AFFAE', '#51FFFF', '#FF9E51']  # '#005CFF', \n",
    "ax = sns.barplot(data=df_leaks, x='Split kind', y='Leakage', errorbar=('sd'), palette=sns.color_palette(palette, 4))\n",
    "# ax.bar_label(ax.containers[0], fontsize=10)\n",
    "ax.set_ylim([0, 1])\n",
    "# plt.xticks(rotation=45)\n",
    "# plt.yrange = (0, 1)\n",
    "# plt.yticks = [0, 0.2, 0.4, 0.6, 0.8, 1]\n",
    "# ax.get_xaxis().set_visible(False)\n",
    "# ax.get_yaxis().set_visible(False)\n",
    "# ax.get_yaxis().set_xticks([])\n",
    "ax.xaxis.set_ticklabels([])\n",
    "ax.yaxis.set_ticklabels([])\n",
    "plt.xticks = []\n",
    "plt.yticks = []\n",
    "plt.xlabel('')\n",
    "plt.ylabel('')\n",
    "plt.savefig('leakage.svg', bbox_inches='tight')\n",
    "plt.show()"
   ]
  },
  {
   "attachments": {},
   "cell_type": "markdown",
   "metadata": {},
   "source": [
    "# Real datasets"
   ]
  },
  {
   "attachments": {},
   "cell_type": "markdown",
   "metadata": {},
   "source": [
    "### SKEMPI v2.0"
   ]
  },
  {
   "cell_type": "code",
   "execution_count": 54,
   "metadata": {},
   "outputs": [
    {
     "name": "stdout",
     "output_type": "stream",
     "text": [
      "Embeddings: 343\n",
      "Embeddings from folds: 343\n"
     ]
    },
    {
     "data": {
      "text/plain": [
       "0.5663716814159292"
      ]
     },
     "execution_count": 54,
     "metadata": {},
     "output_type": "execute_result"
    }
   ],
   "source": [
    "# path = 'dips_equidock_ppiref_source'\n",
    "# path_emb = Path(PPIREF_DATA_DIR / 'ppiref/clustering/idist_emb_dips_equidock_ppiref_source,whole.csv')\n",
    "\n",
    "path = 'skempi2_cleaned_rde_net'\n",
    "path_emb = Path(PPIREF_DATA_DIR / 'skempi2/clustering/idist_emb_skempi2_cleaned_rde_net,whole.csv')\n",
    "\n",
    "path_emb = Path(path_emb)\n",
    "df_emb = pd.read_csv(path_emb, index_col=0)\n",
    "\n",
    "ppi_ids_train = read_fold(path, '1+0', full_paths=False)\n",
    "# ppi_ids_train = [x.split('_')[0].lower() + '_' + x.split('_', 1)[1] for x in ppi_ids_train]\n",
    "ppi_ids_test = read_fold(path, '2', full_paths=False)\n",
    "# ppi_ids_test = [x.split('_')[0].lower() + '_' + x.split('_', 1)[1] for x in ppi_ids_test]\n",
    "\n",
    "print('Embeddings:', len(df_emb))\n",
    "df_emb = df_emb.reindex(ppi_ids_train + ppi_ids_test)\n",
    "print('Embeddings from folds:', len(df_emb.dropna()))\n",
    "\n",
    "df_emb_train = df_emb.loc[ppi_ids_train]\n",
    "df_emb_test = df_emb.loc[ppi_ids_test]\n",
    "\n",
    "idist = IDist(near_duplicate_threshold=0.03)\n",
    "idist.read_embeddings(df_emb_train, dropna=True)\n",
    "\n",
    "df_emb_test = df_emb_test.replace(np.nan, 0.0)\n",
    "idist_hits = idist.query(df_emb_test.to_numpy())\n",
    "df_emb_test['idist_hits'] = [len(row_hits) for row_hits in idist_hits[0]]\n",
    "\n",
    "n_leaks = df_emb_test['idist_hits'].astype(bool).mean()\n",
    "n_leaks\n",
    "# df_leaks.append({'Split': path.stem, 'Leakage': n_leaks})"
   ]
  },
  {
   "cell_type": "code",
   "execution_count": 56,
   "metadata": {},
   "outputs": [
    {
     "data": {
      "text/plain": [
       "56.0"
      ]
     },
     "execution_count": 56,
     "metadata": {},
     "output_type": "execute_result"
    }
   ],
   "source": [
    "(57 + 57 + 54) / 3"
   ]
  },
  {
   "attachments": {},
   "cell_type": "markdown",
   "metadata": {},
   "source": [
    "### BM5"
   ]
  },
  {
   "cell_type": "code",
   "execution_count": 9,
   "metadata": {},
   "outputs": [
    {
     "data": {
      "text/plain": [
       "499"
      ]
     },
     "execution_count": 9,
     "metadata": {},
     "output_type": "execute_result"
    }
   ],
   "source": [
    "# Use all extracted interfaces from DB5.5, the source of BM5 structures\n",
    "ppi_dir_db5 = PPIREF_DATA_DIR / 'db5/ppi_6A'\n",
    "ppi_paths_db5 = list(ppi_dir_db5.rglob('*.pdb'))\n",
    "len(ppi_paths_db5)"
   ]
  },
  {
   "cell_type": "code",
   "execution_count": 10,
   "metadata": {},
   "outputs": [
    {
     "name": "stderr",
     "output_type": "stream",
     "text": [
      "Embedding PPIs (62 processes):  10%|▉         | 48/499 [00:00<00:04, 93.42it/s]/home/antonb/miniconda3/envs/ppiref/lib/python3.10/site-packages/numpy/core/fromnumeric.py:3432: RuntimeWarning: Mean of empty slice.\n",
      "  return _methods._mean(a, axis=axis, dtype=dtype,\n",
      "/home/antonb/miniconda3/envs/ppiref/lib/python3.10/site-packages/numpy/core/_methods.py:190: RuntimeWarning: invalid value encountered in double_scalars\n",
      "  ret = ret.dtype.type(ret / rcount)\n",
      "/home/antonb/miniconda3/envs/ppiref/lib/python3.10/site-packages/numpy/core/_methods.py:164: VisibleDeprecationWarning: Creating an ndarray from ragged nested sequences (which is a list-or-tuple of lists-or-tuples-or ndarrays with different lengths or shapes) is deprecated. If you meant to do this, you must specify 'dtype=object' when creating the ndarray.\n",
      "  arr = asanyarray(a)\n",
      "/home/antonb/miniconda3/envs/ppiref/lib/python3.10/site-packages/numpy/core/fromnumeric.py:3432: RuntimeWarning: Mean of empty slice.\n",
      "  return _methods._mean(a, axis=axis, dtype=dtype,\n",
      "/home/antonb/miniconda3/envs/ppiref/lib/python3.10/site-packages/numpy/core/_methods.py:190: RuntimeWarning: invalid value encountered in double_scalars\n",
      "  ret = ret.dtype.type(ret / rcount)\n",
      "Embedding PPIs (62 processes):  14%|█▍        | 69/499 [00:00<00:03, 121.37it/s]/home/antonb/miniconda3/envs/ppiref/lib/python3.10/site-packages/numpy/core/_methods.py:164: VisibleDeprecationWarning: Creating an ndarray from ragged nested sequences (which is a list-or-tuple of lists-or-tuples-or ndarrays with different lengths or shapes) is deprecated. If you meant to do this, you must specify 'dtype=object' when creating the ndarray.\n",
      "  arr = asanyarray(a)\n",
      "/home/antonb/miniconda3/envs/ppiref/lib/python3.10/site-packages/numpy/core/fromnumeric.py:3432: RuntimeWarning: Mean of empty slice.\n",
      "  return _methods._mean(a, axis=axis, dtype=dtype,\n",
      "/home/antonb/miniconda3/envs/ppiref/lib/python3.10/site-packages/numpy/core/_methods.py:190: RuntimeWarning: invalid value encountered in double_scalars\n",
      "  ret = ret.dtype.type(ret / rcount)\n",
      "/home/antonb/miniconda3/envs/ppiref/lib/python3.10/site-packages/numpy/core/_methods.py:164: VisibleDeprecationWarning: Creating an ndarray from ragged nested sequences (which is a list-or-tuple of lists-or-tuples-or ndarrays with different lengths or shapes) is deprecated. If you meant to do this, you must specify 'dtype=object' when creating the ndarray.\n",
      "  arr = asanyarray(a)\n",
      "Embedding PPIs (62 processes):  19%|█▉        | 97/499 [00:00<00:02, 161.89it/s]/home/antonb/miniconda3/envs/ppiref/lib/python3.10/site-packages/numpy/core/fromnumeric.py:3432: RuntimeWarning: Mean of empty slice.\n",
      "  return _methods._mean(a, axis=axis, dtype=dtype,\n",
      "/home/antonb/miniconda3/envs/ppiref/lib/python3.10/site-packages/numpy/core/_methods.py:190: RuntimeWarning: invalid value encountered in double_scalars\n",
      "  ret = ret.dtype.type(ret / rcount)\n",
      "/home/antonb/miniconda3/envs/ppiref/lib/python3.10/site-packages/numpy/core/_methods.py:164: VisibleDeprecationWarning: Creating an ndarray from ragged nested sequences (which is a list-or-tuple of lists-or-tuples-or ndarrays with different lengths or shapes) is deprecated. If you meant to do this, you must specify 'dtype=object' when creating the ndarray.\n",
      "  arr = asanyarray(a)\n",
      "/home/antonb/miniconda3/envs/ppiref/lib/python3.10/site-packages/numpy/core/fromnumeric.py:3432: RuntimeWarning: Mean of empty slice.\n",
      "  return _methods._mean(a, axis=axis, dtype=dtype,\n",
      "/home/antonb/miniconda3/envs/ppiref/lib/python3.10/site-packages/numpy/core/_methods.py:190: RuntimeWarning: invalid value encountered in double_scalars\n",
      "  ret = ret.dtype.type(ret / rcount)\n",
      "/home/antonb/miniconda3/envs/ppiref/lib/python3.10/site-packages/numpy/core/_methods.py:164: VisibleDeprecationWarning: Creating an ndarray from ragged nested sequences (which is a list-or-tuple of lists-or-tuples-or ndarrays with different lengths or shapes) is deprecated. If you meant to do this, you must specify 'dtype=object' when creating the ndarray.\n",
      "  arr = asanyarray(a)\n",
      "Embedding PPIs (62 processes):  24%|██▍       | 120/499 [00:01<00:02, 166.53it/s]/home/antonb/miniconda3/envs/ppiref/lib/python3.10/site-packages/numpy/core/fromnumeric.py:3432: RuntimeWarning: Mean of empty slice.\n",
      "  return _methods._mean(a, axis=axis, dtype=dtype,\n",
      "/home/antonb/miniconda3/envs/ppiref/lib/python3.10/site-packages/numpy/core/_methods.py:190: RuntimeWarning: invalid value encountered in double_scalars\n",
      "  ret = ret.dtype.type(ret / rcount)\n",
      "/home/antonb/miniconda3/envs/ppiref/lib/python3.10/site-packages/numpy/core/_methods.py:164: VisibleDeprecationWarning: Creating an ndarray from ragged nested sequences (which is a list-or-tuple of lists-or-tuples-or ndarrays with different lengths or shapes) is deprecated. If you meant to do this, you must specify 'dtype=object' when creating the ndarray.\n",
      "  arr = asanyarray(a)\n",
      "Embedding PPIs (62 processes):  59%|█████▊    | 293/499 [00:02<00:01, 105.90it/s]/home/antonb/miniconda3/envs/ppiref/lib/python3.10/site-packages/numpy/core/fromnumeric.py:3432: RuntimeWarning: Mean of empty slice.\n",
      "  return _methods._mean(a, axis=axis, dtype=dtype,\n",
      "/home/antonb/miniconda3/envs/ppiref/lib/python3.10/site-packages/numpy/core/_methods.py:190: RuntimeWarning: invalid value encountered in double_scalars\n",
      "  ret = ret.dtype.type(ret / rcount)\n",
      "/home/antonb/miniconda3/envs/ppiref/lib/python3.10/site-packages/numpy/core/_methods.py:164: VisibleDeprecationWarning: Creating an ndarray from ragged nested sequences (which is a list-or-tuple of lists-or-tuples-or ndarrays with different lengths or shapes) is deprecated. If you meant to do this, you must specify 'dtype=object' when creating the ndarray.\n",
      "  arr = asanyarray(a)\n",
      "Embedding PPIs (62 processes):  88%|████████▊ | 438/499 [00:03<00:00, 137.36it/s]/home/antonb/miniconda3/envs/ppiref/lib/python3.10/site-packages/numpy/core/fromnumeric.py:3432: RuntimeWarning: Mean of empty slice.\n",
      "  return _methods._mean(a, axis=axis, dtype=dtype,\n",
      "/home/antonb/miniconda3/envs/ppiref/lib/python3.10/site-packages/numpy/core/_methods.py:190: RuntimeWarning: invalid value encountered in double_scalars\n",
      "  ret = ret.dtype.type(ret / rcount)\n",
      "/home/antonb/miniconda3/envs/ppiref/lib/python3.10/site-packages/numpy/core/_methods.py:164: VisibleDeprecationWarning: Creating an ndarray from ragged nested sequences (which is a list-or-tuple of lists-or-tuples-or ndarrays with different lengths or shapes) is deprecated. If you meant to do this, you must specify 'dtype=object' when creating the ndarray.\n",
      "  arr = asanyarray(a)\n",
      "Embedding PPIs (62 processes): 100%|██████████| 499/499 [00:08<00:00, 59.05it/s] \n"
     ]
    },
    {
     "data": {
      "text/html": [
       "<div>\n",
       "<style scoped>\n",
       "    .dataframe tbody tr th:only-of-type {\n",
       "        vertical-align: middle;\n",
       "    }\n",
       "\n",
       "    .dataframe tbody tr th {\n",
       "        vertical-align: top;\n",
       "    }\n",
       "\n",
       "    .dataframe thead th {\n",
       "        text-align: right;\n",
       "    }\n",
       "</style>\n",
       "<table border=\"1\" class=\"dataframe\">\n",
       "  <thead>\n",
       "    <tr style=\"text-align: right;\">\n",
       "      <th></th>\n",
       "      <th>PPI0</th>\n",
       "      <th>PPI1</th>\n",
       "      <th>L2</th>\n",
       "      <th>L1</th>\n",
       "      <th>Cosine Similarity</th>\n",
       "    </tr>\n",
       "  </thead>\n",
       "  <tbody>\n",
       "    <tr>\n",
       "      <th>0</th>\n",
       "      <td>1ay7_A_B</td>\n",
       "      <td>1ay7_A_B</td>\n",
       "      <td>0.000000</td>\n",
       "      <td>0.000000</td>\n",
       "      <td>1.000000</td>\n",
       "    </tr>\n",
       "    <tr>\n",
       "      <th>1</th>\n",
       "      <td>1ay7_A_B</td>\n",
       "      <td>2ayo_A_B</td>\n",
       "      <td>0.084698</td>\n",
       "      <td>0.313266</td>\n",
       "      <td>0.798831</td>\n",
       "    </tr>\n",
       "    <tr>\n",
       "      <th>2</th>\n",
       "      <td>1ay7_A_B</td>\n",
       "      <td>3szk_D_E</td>\n",
       "      <td>0.092129</td>\n",
       "      <td>0.352079</td>\n",
       "      <td>0.774488</td>\n",
       "    </tr>\n",
       "    <tr>\n",
       "      <th>3</th>\n",
       "      <td>1ay7_A_B</td>\n",
       "      <td>3szk_D_F</td>\n",
       "      <td>0.092937</td>\n",
       "      <td>0.323894</td>\n",
       "      <td>0.775323</td>\n",
       "    </tr>\n",
       "    <tr>\n",
       "      <th>4</th>\n",
       "      <td>1ay7_A_B</td>\n",
       "      <td>3h11_A_B</td>\n",
       "      <td>0.069896</td>\n",
       "      <td>0.247428</td>\n",
       "      <td>0.858052</td>\n",
       "    </tr>\n",
       "    <tr>\n",
       "      <th>...</th>\n",
       "      <td>...</td>\n",
       "      <td>...</td>\n",
       "      <td>...</td>\n",
       "      <td>...</td>\n",
       "      <td>...</td>\n",
       "    </tr>\n",
       "    <tr>\n",
       "      <th>248996</th>\n",
       "      <td>4gam_F_G</td>\n",
       "      <td>2gaf_A_D</td>\n",
       "      <td>0.064190</td>\n",
       "      <td>0.191299</td>\n",
       "      <td>0.868917</td>\n",
       "    </tr>\n",
       "    <tr>\n",
       "      <th>248997</th>\n",
       "      <td>4gam_F_G</td>\n",
       "      <td>4gam_B_D</td>\n",
       "      <td>0.163681</td>\n",
       "      <td>0.511616</td>\n",
       "      <td>0.708764</td>\n",
       "    </tr>\n",
       "    <tr>\n",
       "      <th>248998</th>\n",
       "      <td>4gam_F_G</td>\n",
       "      <td>4gam_D_F</td>\n",
       "      <td>0.100634</td>\n",
       "      <td>0.380326</td>\n",
       "      <td>0.785397</td>\n",
       "    </tr>\n",
       "    <tr>\n",
       "      <th>248999</th>\n",
       "      <td>4gam_F_G</td>\n",
       "      <td>4gam_F_H</td>\n",
       "      <td>0.064153</td>\n",
       "      <td>0.199476</td>\n",
       "      <td>0.877176</td>\n",
       "    </tr>\n",
       "    <tr>\n",
       "      <th>249000</th>\n",
       "      <td>4gam_F_G</td>\n",
       "      <td>4gam_F_G</td>\n",
       "      <td>0.000000</td>\n",
       "      <td>0.000000</td>\n",
       "      <td>1.000000</td>\n",
       "    </tr>\n",
       "  </tbody>\n",
       "</table>\n",
       "<p>249001 rows × 5 columns</p>\n",
       "</div>"
      ],
      "text/plain": [
       "            PPI0      PPI1        L2        L1  Cosine Similarity\n",
       "0       1ay7_A_B  1ay7_A_B  0.000000  0.000000           1.000000\n",
       "1       1ay7_A_B  2ayo_A_B  0.084698  0.313266           0.798831\n",
       "2       1ay7_A_B  3szk_D_E  0.092129  0.352079           0.774488\n",
       "3       1ay7_A_B  3szk_D_F  0.092937  0.323894           0.775323\n",
       "4       1ay7_A_B  3h11_A_B  0.069896  0.247428           0.858052\n",
       "...          ...       ...       ...       ...                ...\n",
       "248996  4gam_F_G  2gaf_A_D  0.064190  0.191299           0.868917\n",
       "248997  4gam_F_G  4gam_B_D  0.163681  0.511616           0.708764\n",
       "248998  4gam_F_G  4gam_D_F  0.100634  0.380326           0.785397\n",
       "248999  4gam_F_G  4gam_F_H  0.064153  0.199476           0.877176\n",
       "249000  4gam_F_G  4gam_F_G  0.000000  0.000000           1.000000\n",
       "\n",
       "[249001 rows x 5 columns]"
      ]
     },
     "execution_count": 10,
     "metadata": {},
     "output_type": "execute_result"
    }
   ],
   "source": [
    "# Compare pairwise with iDist\n",
    "idist = IDist()\n",
    "df_idist = idist.compare_all_against_all(ppi_paths_db5, ppi_paths_db5)\n",
    "df_idist"
   ]
  },
  {
   "cell_type": "code",
   "execution_count": 31,
   "metadata": {},
   "outputs": [],
   "source": [
    "# Read BM5 split from the DeepRank-GNN paper\n",
    "split_bm5 = {\n",
    "    # Github: https://github.com/DeepRank/Deeprank-GNN/blob/master/paper_pretrained_models/scoring_of_docking_models/BM5_CAPRI_datasets_details_csv/BM5_eval_pdb_list.csv\n",
    "    'fold1': ['2NZ8', '1US7', '1NW9', '2CFH', '2O8V', '1HE1', '2OT3', '2FJU', '1GRN', '2I9B', '1ZM4', '1Z0K', '1JK9', '1ZLI', '2A5T', '3DAW', '1ZHH', '1HE8', '1MQ8', '2A9K', '2AJF', '2J7P', '1JIW', '1XD3', '2A1A'],\n",
    "    'fold2': ['1R8S', '1FC2', '2VDB', '3H2V', '1FFW', '4CPA', '1R0R', '4FZA', '1LFD', '2J0T', '3FN1', '2GTP', '2HQS', '3S9D', '2UUY', '1ACB', '2PCC', '2HRK', '4H03', '1D6R', '2C0L', '1KXP', '1AVX', '1GCQ', '2BTF'],\n",
    "    'fold3': ['1RKE', '1EAW', '1YVB', '2AYO', '2B42', '1BUH', '1S1Q', '1OC0', '1WQ1', '1H9D', '1UDI', '2ABZ', '1BKD', '1I2M', '3CPH', '1JTG', '1Y64', '2O3B', 'BAAD', '1PVH', '1R6Q', '7CEI', '1CLV', '1F34', '2H7V'],\n",
    "    'fold4': ['BOYV', '3SGQ', '1KXQ', '2G77', '2OOB', '2SIC', '1J2J', '3F1P', '1PXV', '2GAF', '1SYX', '4M76', '1GXD', '1B6C', '3VLB', '1GHQ', '1DFJ', '3BIW', '1KAC', '3PC8', '1ATN', '1FLE', '1T6B', '1TMQ', '1M10'],\n",
    "    'fold5': ['1FQJ', '2IDO', '1EFN', '2OUL', '1FQ1', '1SBB', '1MAH', '2X9A', '1QA9', '1ZHI', '1AY7', '1E96', '1GPW', '3D5S', '1KTZ', '1JTD', '3AAD', '3A4S', '1E6E', '3BX7', '1EWY', '1Z5Y', '1GL1', '4IZ7', '2I25'],\n",
    "    'fold6': ['1JIW', '4M76', '3S9D', '1KXQ', '2UUY', '1QA9', '1LFD', '2B42', '2PCC', '1KAC', '1XD3', '1E6E', '1R8S', '1HE8', '3BIW', '1GHQ', '1Y64', '1CLV', '1I2M', '1AY7', '1M10', '3BX7', '1GXD', 'BAAD', '2NZ8'],\n",
    "    'fold7': ['1Z5Y', '3H2V', '4IZ7', '2A9K', '1MQ8', '1B6C', '1DFJ', '3A4S', '1SBB', '2C0L', '1ZHH', '3VLB', '1SYX', '2J7P', '1GRN', '1US7', '2G77', '2A1A', '1R0R', '1PXV', '2OUL', '1ACB', '1EWY', '3F1P', '2A5T'],\n",
    "    'fold8': ['1OC0', '2ABZ', '1HE1', '1KTZ', '3PC8', '4FZA', '3SGQ', '1YVB', '1Z0K', '2AYO', '2HQS', '4H03', '1JTG', '1GCQ', '2HRK', '1RKE', '1FC2', '1UDI', '2IDO', '1ZM4', '1BUH', '1H9D', '1FQJ', '1NW9', '1MAH'],\n",
    "    'fold9': ['2O8V', '1FLE', '4CPA', '2GAF', '2I9B', '1ZHI', '3DAW', '1ATN', '1T6B', '1EFN', '2AJF', '2X9A', '2H7V', '2BTF', '2I25', '1E96', '2HLE', '1GPW', '1F34', '7CEI', '3FN1', '1GLA', 'BOYV', '1JK9', '1FFW'],\n",
    "    'fold10': ['1AVX', '1WQ1', '1ZLI', '2OOB', '1PVH', '1EAW', '2VDB', '2J0T', '1FQ1', '1R6Q', '3CPH', '2CFH', '1BKD', '1J2J', '2O3B', '1TMQ', '3D5S', '1S1Q', '1D6R', '1GL1', '2OT3', '1KXP', '2GTP', '2SIC', '3AAD'],\n",
    "}"
   ]
  },
  {
   "cell_type": "code",
   "execution_count": 33,
   "metadata": {},
   "outputs": [
    {
     "data": {
      "text/html": [
       "<div>\n",
       "<style scoped>\n",
       "    .dataframe tbody tr th:only-of-type {\n",
       "        vertical-align: middle;\n",
       "    }\n",
       "\n",
       "    .dataframe tbody tr th {\n",
       "        vertical-align: top;\n",
       "    }\n",
       "\n",
       "    .dataframe thead th {\n",
       "        text-align: right;\n",
       "    }\n",
       "</style>\n",
       "<table border=\"1\" class=\"dataframe\">\n",
       "  <thead>\n",
       "    <tr style=\"text-align: right;\">\n",
       "      <th></th>\n",
       "      <th>PPI0</th>\n",
       "      <th>PPI1</th>\n",
       "      <th>L2</th>\n",
       "      <th>L1</th>\n",
       "      <th>Cosine Similarity</th>\n",
       "    </tr>\n",
       "  </thead>\n",
       "  <tbody>\n",
       "    <tr>\n",
       "      <th>149626</th>\n",
       "      <td>2nz8_A_B</td>\n",
       "      <td>1bkd_R_S</td>\n",
       "      <td>0.038227</td>\n",
       "      <td>0.119715</td>\n",
       "      <td>0.954367</td>\n",
       "    </tr>\n",
       "    <tr>\n",
       "      <th>212374</th>\n",
       "      <td>1bkd_R_S</td>\n",
       "      <td>2nz8_A_B</td>\n",
       "      <td>0.038227</td>\n",
       "      <td>0.119715</td>\n",
       "      <td>0.954367</td>\n",
       "    </tr>\n",
       "  </tbody>\n",
       "</table>\n",
       "</div>"
      ],
      "text/plain": [
       "            PPI0      PPI1        L2        L1  Cosine Similarity\n",
       "149626  2nz8_A_B  1bkd_R_S  0.038227  0.119715           0.954367\n",
       "212374  1bkd_R_S  2nz8_A_B  0.038227  0.119715           0.954367"
      ]
     },
     "metadata": {},
     "output_type": "display_data"
    },
    {
     "name": "stdout",
     "output_type": "stream",
     "text": [
      "{'2nz8_A_B', '1bkd_R_S'}\n"
     ]
    }
   ],
   "source": [
    "# Create subset of DB5.5 comparisons relevant for the BM5 split\n",
    "def f(row):\n",
    "    # Return True if the PPIs are in different folds of DeepRank-GNN split of BM5\n",
    "    pdb0, pdb1 = row['PPI0'].split('_', 1)[0].upper(), row['PPI1'].split('_', 1)[0].upper()\n",
    "\n",
    "    if pdb0 == pdb1:\n",
    "        return False\n",
    "\n",
    "    fold0, fold1 = None, None\n",
    "    for fold, pdbs in split_bm5.items():\n",
    "        if pdb0 in pdbs:\n",
    "            fold0 = fold\n",
    "        if pdb1 in pdbs:\n",
    "            fold1 = fold\n",
    "\n",
    "    if fold0 is None or fold1 is None:\n",
    "        return False\n",
    "    \n",
    "    return fold0 != fold1\n",
    "\n",
    "df_idist_bm5 = df_idist[df_idist.apply(f, axis=1)]\n",
    "# df_idist_bm5.sort_values('L2')\n",
    "df_hits = df_idist_bm5[df_idist_bm5['L2'] < 0.04]\n",
    "display(df_hits)\n",
    "print(set(df_hits['PPI0'].tolist() + df_hits['PPI1'].tolist()))"
   ]
  }
 ],
 "metadata": {
  "kernelspec": {
   "display_name": "Python 3",
   "language": "python",
   "name": "python3"
  },
  "language_info": {
   "codemirror_mode": {
    "name": "ipython",
    "version": 3
   },
   "file_extension": ".py",
   "mimetype": "text/x-python",
   "name": "python",
   "nbconvert_exporter": "python",
   "pygments_lexer": "ipython3",
   "version": "3.9.16"
  },
  "orig_nbformat": 4
 },
 "nbformat": 4,
 "nbformat_minor": 2
}
